{
 "cells": [
  {
   "cell_type": "markdown",
   "metadata": {},
   "source": [
    "# 📘 Engineering-Grade Pandas Cheatsheet"
   ]
  },
  {
   "cell_type": "markdown",
   "metadata": {},
   "source": [
    "## Setup & Imports"
   ]
  },
  {
   "cell_type": "code",
   "execution_count": null,
   "metadata": {},
   "outputs": [],
   "source": [
    "import pandas as pd\n",
    "import numpy as np\n",
    "import pyarrow as pa\n",
    "import pyarrow.parquet as pq\n",
    "\n",
    "print(pd.__version__)\n",
    "print(np.__version__)"
   ]
  },
  {
   "cell_type": "markdown",
   "metadata": {},
   "source": [
    "## DataFrame Creation & Schema Handling"
   ]
  },
  {
   "cell_type": "code",
   "execution_count": null,
   "metadata": {},
   "outputs": [],
   "source": [
    "# From dictionary\n",
    "df_dict = pd.DataFrame({\"id\": [1, 2, 3], \"value\": [10.5, 20.1, 30.6]})\n",
    "\n",
    "# From numpy array\n",
    "arr = np.random.randn(5, 3)\n",
    "df_np = pd.DataFrame(arr, columns=[\"A\", \"B\", \"C\"])\n",
    "\n",
    "# From Arrow Table\n",
    "table = pa.table({\"x\": [1,2,3], \"y\": [\"a\",\"b\",\"c\"]})\n",
    "df_arrow = table.to_pandas()\n",
    "\n",
    "# Schema enforcement\n",
    "df_schema = df_dict.astype({\"id\": \"int64\", \"value\": \"float32\"})"
   ]
  },
  {
   "cell_type": "markdown",
   "metadata": {},
   "source": [
    "## Indexing & Selection (Executive Grade)"
   ]
  },
  {
   "cell_type": "code",
   "execution_count": null,
   "metadata": {},
   "outputs": [],
   "source": [
    "df = pd.DataFrame({\n",
    "    \"id\": [101, 102, 103, 104],\n",
    "    \"dept\": [\"HR\", \"IT\", \"HR\", \"FIN\"],\n",
    "    \"salary\": [50000, 60000, 52000, 58000]\n",
    "})\n",
    "\n",
    "# loc, iloc\n",
    "print(df.loc[df[\"dept\"]==\"HR\", [\"id\",\"salary\"]])\n",
    "print(df.iloc[0:2, 1:])\n",
    "\n",
    "# MultiIndex\n",
    "df_m = df.set_index([\"dept\",\"id\"])\n",
    "print(df_m.xs(\"HR\", level=\"dept\"))\n",
    "\n",
    "# Query with variable\n",
    "threshold = 55000\n",
    "print(df.query(\"salary > @threshold\"))"
   ]
  },
  {
   "cell_type": "markdown",
   "metadata": {},
   "source": [
    "## Data Cleaning & Transformation"
   ]
  },
  {
   "cell_type": "code",
   "execution_count": null,
   "metadata": {},
   "outputs": [],
   "source": [
    "df = pd.DataFrame({\n",
    "    \"name\": [\" Alice \", \"Bob\", None, \"Charlie\"],\n",
    "    \"joined\": [\"2021-01-01\", \"2021/02/15\", None, \"2021-03-20\"],\n",
    "    \"score\": [np.nan, 8.5, 7.0, 9.1]\n",
    "})\n",
    "\n",
    "# Strip whitespace\n",
    "df[\"name\"] = df[\"name\"].str.strip()\n",
    "\n",
    "# Handle missing values\n",
    "df[\"name\"].fillna(\"Unknown\", inplace=True)\n",
    "df[\"score\"] = df[\"score\"].interpolate()\n",
    "\n",
    "# Convert dates\n",
    "df[\"joined\"] = pd.to_datetime(df[\"joined\"], errors=\"coerce\")"
   ]
  },
  {
   "cell_type": "markdown",
   "metadata": {},
   "source": [
    "## Merging, Joins & Reshaping"
   ]
  },
  {
   "cell_type": "code",
   "execution_count": null,
   "metadata": {},
   "outputs": [],
   "source": [
    "left = pd.DataFrame({\"id\":[1,2,3], \"dept\":[\"HR\",\"IT\",\"FIN\"]})\n",
    "right = pd.DataFrame({\"id\":[2,3,4], \"salary\":[60,70,80]})\n",
    "\n",
    "# Inner join\n",
    "print(pd.merge(left, right, on=\"id\", how=\"inner\"))\n",
    "\n",
    "# Outer join\n",
    "print(pd.merge(left, right, on=\"id\", how=\"outer\"))\n",
    "\n",
    "# Anti-join\n",
    "anti = left[~left[\"id\"].isin(right[\"id\"])]\n",
    "print(anti)\n",
    "\n",
    "# Reshaping\n",
    "df = pd.DataFrame({\n",
    "    \"id\":[1,2,3],\n",
    "    \"Q1\":[100,200,300],\n",
    "    \"Q2\":[110,210,310]\n",
    "})\n",
    "melted = df.melt(id_vars=\"id\", var_name=\"quarter\", value_name=\"amount\")\n",
    "print(melted)"
   ]
  },
  {
   "cell_type": "markdown",
   "metadata": {},
   "source": [
    "## GroupBy & Aggregations"
   ]
  },
  {
   "cell_type": "code",
   "execution_count": null,
   "metadata": {},
   "outputs": [],
   "source": [
    "df = pd.DataFrame({\n",
    "    \"dept\":[\"HR\",\"HR\",\"IT\",\"IT\",\"FIN\"],\n",
    "    \"salary\":[50,60,70,65,80],\n",
    "    \"bonus\":[5,6,7,6,8]\n",
    "})\n",
    "\n",
    "# Multiple aggs with rename\n",
    "agg = df.groupby(\"dept\").agg(\n",
    "    avg_salary=(\"salary\",\"mean\"),\n",
    "    max_bonus=(\"bonus\",\"max\")\n",
    ")\n",
    "print(agg)\n",
    "\n",
    "# Transform vs apply\n",
    "df[\"pct_salary\"] = df.groupby(\"dept\")[\"salary\"].transform(lambda x: x/x.sum())"
   ]
  },
  {
   "cell_type": "markdown",
   "metadata": {},
   "source": [
    "## Time Series & Window Functions"
   ]
  },
  {
   "cell_type": "code",
   "execution_count": null,
   "metadata": {},
   "outputs": [],
   "source": [
    "rng = pd.date_range(\"2023-01-01\", periods=6, freq=\"D\")\n",
    "ts = pd.DataFrame({\"date\":rng, \"value\":[10,12,15,14,13,18]}).set_index(\"date\")\n",
    "\n",
    "# Resample\n",
    "print(ts.resample(\"2D\").sum())\n",
    "\n",
    "# Rolling average\n",
    "print(ts.rolling(window=3).mean())\n",
    "\n",
    "# Expanding sum\n",
    "print(ts.expanding().sum())"
   ]
  },
  {
   "cell_type": "markdown",
   "metadata": {},
   "source": [
    "## Performance Optimization"
   ]
  },
  {
   "cell_type": "code",
   "execution_count": null,
   "metadata": {},
   "outputs": [],
   "source": [
    "df = pd.DataFrame({\n",
    "    \"a\": np.random.randint(0,1000,1000000),\n",
    "    \"b\": np.random.rand(1000000)\n",
    "})\n",
    "\n",
    "# Memory usage\n",
    "print(df.info(memory_usage=\"deep\"))\n",
    "\n",
    "# Downcast\n",
    "df[\"a\"] = pd.to_numeric(df[\"a\"], downcast=\"unsigned\")\n",
    "df[\"b\"] = pd.to_numeric(df[\"b\"], downcast=\"float\")\n",
    "\n",
    "# Query optimization\n",
    "res = df.query(\"a < 10 and b > 0.5\")"
   ]
  },
  {
   "cell_type": "markdown",
   "metadata": {},
   "source": [
    "## Validation & Testing"
   ]
  },
  {
   "cell_type": "code",
   "execution_count": null,
   "metadata": {},
   "outputs": [],
   "source": [
    "df = pd.DataFrame({\n",
    "    \"id\":[1,2,3,3],\n",
    "    \"value\":[10,20,None,40]\n",
    "})\n",
    "\n",
    "# Duplicate check\n",
    "assert df[\"id\"].is_unique == False\n",
    "\n",
    "# Null check\n",
    "print(df[\"value\"].isnull().sum())\n",
    "\n",
    "# Type check\n",
    "from pandas.api.types import is_numeric_dtype\n",
    "print(is_numeric_dtype(df[\"value\"]))"
   ]
  },
  {
   "cell_type": "markdown",
   "metadata": {},
   "source": [
    "## Interoperability"
   ]
  },
  {
   "cell_type": "code",
   "execution_count": null,
   "metadata": {},
   "outputs": [],
   "source": [
    "# SQL (example requires SQLAlchemy)\n",
    "# from sqlalchemy import create_engine\n",
    "# engine = create_engine(\"sqlite:///:memory:\")\n",
    "# df.to_sql(\"table1\", engine)\n",
    "# pd.read_sql(\"select * from table1\", engine)\n",
    "\n",
    "# Pandas <-> Arrow\n",
    "df = pd.DataFrame({\"a\":[1,2,3]})\n",
    "tbl = pa.Table.from_pandas(df)\n",
    "df2 = tbl.to_pandas()"
   ]
  },
  {
   "cell_type": "markdown",
   "metadata": {},
   "source": [
    "## Debugging & Engineering Practices"
   ]
  },
  {
   "cell_type": "code",
   "execution_count": null,
   "metadata": {},
   "outputs": [],
   "source": [
    "df = pd.DataFrame({\n",
    "    \"col1\": np.random.choice([\"A\",\"B\",\"C\"], size=100),\n",
    "    \"col2\": np.random.randn(100)\n",
    "})\n",
    "\n",
    "# Memory usage\n",
    "print(df.info(memory_usage=\"deep\"))\n",
    "\n",
    "# Descriptive stats\n",
    "print(df.describe(include=\"all\"))\n",
    "\n",
    "# Profiling (if installed)\n",
    "# from pandas_profiling import ProfileReport\n",
    "# profile = ProfileReport(df)\n",
    "# profile.to_notebook_iframe()"
   ]
  }
 ],
 "metadata": {
  "kernelspec": {
   "display_name": "Python 3",
   "language": "python",
   "name": "python3"
  },
  "language_info": {
   "name": "python",
   "version": "3.11"
  }
 },
 "nbformat": 4,
 "nbformat_minor": 5
}
